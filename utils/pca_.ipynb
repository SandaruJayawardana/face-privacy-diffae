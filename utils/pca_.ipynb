{
 "cells": [
  {
   "cell_type": "code",
   "execution_count": null,
   "metadata": {},
   "outputs": [],
   "source": [
    "from sklearn.decomposition import PCA\n",
    "from sklearn.preprocessing import StandardScaler\n",
    "import numpy as np\n",
    "import matplotlib.pyplot as plt\n",
    "\n",
    "# Assume X is your data matrix with observations as rows and features as columns\n",
    "# For demonstration, let's create a synthetic dataset with 10 observations and 5 features.\n",
    "np.random.seed(0)  # Seed for reproducibility\n",
    "X = np.random.rand(10, 2)\n",
    "plt.scatter(X)#[:,0], X[:,1])\n",
    "plt.show()\n",
    "\n",
    "print(X)\n",
    "\n",
    "# Standardize the features (mean = 0 and variance = 1)\n",
    "scaler = StandardScaler()\n",
    "X_std = scaler.fit_transform(X)\n",
    "\n",
    "# Perform PCA to reduce the data to 2 components\n",
    "pca = PCA(n_components=2)\n",
    "X_pca = pca.fit_transform(X_std)\n",
    "\n",
    "# The transformed data (in the new PCA space)\n",
    "print(\"Transformed Data:\\n\", X_pca)\n",
    "\n",
    "# The amount of variance explained by each of the selected components\n",
    "print(\"Explained variance ratio:\\n\", pca.explained_variance_ratio_)\n",
    "\n",
    "# To recover the original data from the PCA-transformed data:\n",
    "X_recovered = pca.inverse_transform(X_pca)\n",
    "print(\"Recovered Data (approximation):\\n\", X_recovered)\n",
    "# plt.scatter(X_recovered[:,0], X_recovered[:,1])\n",
    "plt.show()"
   ]
  }
 ],
 "metadata": {
  "kernelspec": {
   "display_name": "diff_encoder",
   "language": "python",
   "name": "python3"
  },
  "language_info": {
   "codemirror_mode": {
    "name": "ipython",
    "version": 3
   },
   "file_extension": ".py",
   "mimetype": "text/x-python",
   "name": "python",
   "nbconvert_exporter": "python",
   "pygments_lexer": "ipython3",
   "version": "3.10.12"
  }
 },
 "nbformat": 4,
 "nbformat_minor": 2
}
