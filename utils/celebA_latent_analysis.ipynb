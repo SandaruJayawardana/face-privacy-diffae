{
 "cells": [
  {
   "cell_type": "code",
   "execution_count": 1,
   "metadata": {},
   "outputs": [],
   "source": [
    "import numpy as np\n",
    "from load_latent import *\n",
    "from gen_hyperplanes import *"
   ]
  },
  {
   "cell_type": "code",
   "execution_count": 4,
   "metadata": {},
   "outputs": [],
   "source": [
    "# Load dataset\n",
    "\n",
    "X_train, y_train, X_test, y_test = pre_process_celebA(TRAINING_AMOUNT = 0.1)"
   ]
  },
  {
   "cell_type": "code",
   "execution_count": 5,
   "metadata": {},
   "outputs": [
    {
     "name": "stdout",
     "output_type": "stream",
     "text": [
      "Accuracy: 0.9147033015246243\n"
     ]
    }
   ],
   "source": [
    "svm_classifier = SVC(kernel='linear')\n",
    "\n",
    "svm_classifier.fit(X_train, np.transpose(y_train)[0])\n",
    "\n",
    "y_pred = svm_classifier.predict(X_test)\n",
    "\n",
    "accuracy = accuracy_score(np.transpose(y_test)[0], y_pred)\n",
    "print(\"Accuracy:\", accuracy)"
   ]
  },
  {
   "cell_type": "code",
   "execution_count": 9,
   "metadata": {},
   "outputs": [
    {
     "name": "stdout",
     "output_type": "stream",
     "text": [
      "Perpendicular distance to the hyperplane: [0.24668429]\n"
     ]
    }
   ],
   "source": [
    "hyperplane_coefficients = svm_classifier.coef_\n",
    "hyperplane_intercept = svm_classifier.intercept_\n",
    "\n",
    "# print(\"hyperplane_coefficients \", hyperplane_coefficients)\n",
    "# print(\"hyperplane_intercept \", hyperplane_intercept)\n",
    "\n",
    "\n",
    "\n",
    "# Define the coordinates of the point (replace with your point's coordinates)\n",
    "point = np.array(X_test[0])\n",
    "\n",
    "# print(\"point \", point, np.shape(point))\n",
    "\n",
    "\n",
    "# Calculate the perpendicular distance to the hyperplane\n",
    "distance = abs(np.dot(hyperplane_coefficients, point) + hyperplane_intercept) / np.linalg.norm(hyperplane_coefficients)\n",
    "\n",
    "print(\"Perpendicular distance to the hyperplane:\", distance)"
   ]
  },
  {
   "cell_type": "code",
   "execution_count": null,
   "metadata": {},
   "outputs": [],
   "source": []
  }
 ],
 "metadata": {
  "kernelspec": {
   "display_name": "diff_encoder",
   "language": "python",
   "name": "python3"
  },
  "language_info": {
   "codemirror_mode": {
    "name": "ipython",
    "version": 3
   },
   "file_extension": ".py",
   "mimetype": "text/x-python",
   "name": "python",
   "nbconvert_exporter": "python",
   "pygments_lexer": "ipython3",
   "version": "3.10.12"
  },
  "orig_nbformat": 4
 },
 "nbformat": 4,
 "nbformat_minor": 2
}
